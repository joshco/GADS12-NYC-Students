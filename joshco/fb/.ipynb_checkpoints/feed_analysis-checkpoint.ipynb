{
 "metadata": {
  "name": "",
  "signature": "sha256:411c5a9ff2b097e166a7cf152a6703be12b0bf691149a31ad3b87fe3c33c73a8"
 },
 "nbformat": 3,
 "nbformat_minor": 0,
 "worksheets": [
  {
   "cells": [
    {
     "cell_type": "code",
     "collapsed": false,
     "input": [
      "import json\n",
      "import pandas as pa\n",
      "\n",
      "raw_json=open('wufm.json')\n",
      "raw_feed = json.load(raw_json)\n",
      "#raw_feed = json.loads('feed.array.json')\n",
      "#feed = pa.read_json('feed.array.json')\n"
     ],
     "language": "python",
     "metadata": {},
     "outputs": [],
     "prompt_number": 1
    },
    {
     "cell_type": "code",
     "collapsed": false,
     "input": [
      "from dateutil.parser import parse"
     ],
     "language": "python",
     "metadata": {},
     "outputs": [],
     "prompt_number": 2
    },
    {
     "cell_type": "code",
     "collapsed": false,
     "input": [
      "len(raw_feed)"
     ],
     "language": "python",
     "metadata": {},
     "outputs": [
      {
       "metadata": {},
       "output_type": "pyout",
       "prompt_number": 3,
       "text": [
        "841"
       ]
      }
     ],
     "prompt_number": 3
    },
    {
     "cell_type": "code",
     "collapsed": false,
     "input": [
      "#fixup share count\n",
      "for i,r in enumerate(raw_feed):\n",
      "    if r.has_key('shares'):\n",
      "        r['share_count'] = r['shares']['count']\n",
      "    else:\n",
      "        r['share_count'] = 0\n"
     ],
     "language": "python",
     "metadata": {},
     "outputs": [],
     "prompt_number": 176
    },
    {
     "cell_type": "code",
     "collapsed": false,
     "input": [
      "len(raw_feed[0]['likes']['data'])"
     ],
     "language": "python",
     "metadata": {},
     "outputs": [
      {
       "ename": "KeyError",
       "evalue": "'likes'",
       "output_type": "pyerr",
       "traceback": [
        "\u001b[1;31m---------------------------------------------------------------------------\u001b[0m\n\u001b[1;31mKeyError\u001b[0m                                  Traceback (most recent call last)",
        "\u001b[1;32m<ipython-input-170-3734215b35c6>\u001b[0m in \u001b[0;36m<module>\u001b[1;34m()\u001b[0m\n\u001b[1;32m----> 1\u001b[1;33m \u001b[0mlen\u001b[0m\u001b[1;33m(\u001b[0m\u001b[0mraw_feed\u001b[0m\u001b[1;33m[\u001b[0m\u001b[1;36m0\u001b[0m\u001b[1;33m]\u001b[0m\u001b[1;33m[\u001b[0m\u001b[1;34m'likes'\u001b[0m\u001b[1;33m]\u001b[0m\u001b[1;33m[\u001b[0m\u001b[1;34m'data'\u001b[0m\u001b[1;33m]\u001b[0m\u001b[1;33m)\u001b[0m\u001b[1;33m\u001b[0m\u001b[0m\n\u001b[0m",
        "\u001b[1;31mKeyError\u001b[0m: 'likes'"
       ]
      }
     ],
     "prompt_number": 170
    },
    {
     "cell_type": "code",
     "collapsed": false,
     "input": [
      "# fixup like count\n",
      "for i,r in enumerate(raw_feed):\n",
      "    if r.has_key('likes'):\n",
      "        r['like_count'] = len(r['likes']['data'])\n",
      "    else:\n",
      "        r['like_count'] = 0\n"
     ],
     "language": "python",
     "metadata": {},
     "outputs": [],
     "prompt_number": 171
    },
    {
     "cell_type": "code",
     "collapsed": false,
     "input": [
      "# fixup comment count\n",
      "for i,r in enumerate(raw_feed):\n",
      "    if r.has_key('comments'):\n",
      "        r['comment_count'] = len(r['comments']['data'])\n",
      "    else:\n",
      "        r['comment_count'] = 0"
     ],
     "language": "python",
     "metadata": {},
     "outputs": [],
     "prompt_number": 172
    },
    {
     "cell_type": "code",
     "collapsed": false,
     "input": [
      "#fixup hours\n",
      "from pytz import timezone\n",
      "\n",
      "loc=timezone('US/Eastern')\n",
      "for i,r in enumerate(raw_feed):\n",
      "    if r.has_key('created_time'):\n",
      "        hour_dt=parse(r['created_time'])\n",
      "        hour_loc=hour_dt.astimezone(loc)\n",
      "        r['hour'] = hour_loc.hour\n",
      "    else:\n",
      "        r['hour'] = 0\n"
     ],
     "language": "python",
     "metadata": {},
     "outputs": [],
     "prompt_number": 4
    },
    {
     "cell_type": "code",
     "collapsed": false,
     "input": [
      "df = pa.DataFrame(data=raw_feed)\n"
     ],
     "language": "python",
     "metadata": {},
     "outputs": [],
     "prompt_number": 5
    },
    {
     "cell_type": "code",
     "collapsed": false,
     "input": [
      "df.head()"
     ],
     "language": "python",
     "metadata": {},
     "outputs": [
      {
       "html": [
        "<div style=\"max-height:1000px;max-width:1500px;overflow:auto;\">\n",
        "<table border=\"1\" class=\"dataframe\">\n",
        "  <thead>\n",
        "    <tr style=\"text-align: right;\">\n",
        "      <th></th>\n",
        "      <th>actions</th>\n",
        "      <th>application</th>\n",
        "      <th>caption</th>\n",
        "      <th>comment_count_api</th>\n",
        "      <th>comments</th>\n",
        "      <th>created_time</th>\n",
        "      <th>description</th>\n",
        "      <th>from</th>\n",
        "      <th>hour</th>\n",
        "      <th>icon</th>\n",
        "      <th>...</th>\n",
        "      <th>privacy</th>\n",
        "      <th>properties</th>\n",
        "      <th>share_count_api</th>\n",
        "      <th>shares</th>\n",
        "      <th>source</th>\n",
        "      <th>status_type</th>\n",
        "      <th>story</th>\n",
        "      <th>to</th>\n",
        "      <th>type</th>\n",
        "      <th>updated_time</th>\n",
        "    </tr>\n",
        "  </thead>\n",
        "  <tbody>\n",
        "    <tr>\n",
        "      <th>0</th>\n",
        "      <td> [{u'link': u'https://www.facebook.com/26922814...</td>\n",
        "      <td> {u'namespace': u'fbiphone', u'name': u'Faceboo...</td>\n",
        "      <td>                                               NaN</td>\n",
        "      <td> 80</td>\n",
        "      <td> {u'paging': {u'cursors': {u'after': u'MjU=', u...</td>\n",
        "      <td> 2014-07-01T01:57:32+0000</td>\n",
        "      <td>                                               NaN</td>\n",
        "      <td> {u'category': u'Political organization', u'nam...</td>\n",
        "      <td> 21</td>\n",
        "      <td> https://fbstatic-a.akamaihd.net/rsrc.php/v2/yx...</td>\n",
        "      <td>...</td>\n",
        "      <td> {u'value': u''}</td>\n",
        "      <td>                                               NaN</td>\n",
        "      <td> 272</td>\n",
        "      <td> {u'count': 272}</td>\n",
        "      <td> NaN</td>\n",
        "      <td> added_photos</td>\n",
        "      <td>                                               NaN</td>\n",
        "      <td> NaN</td>\n",
        "      <td> photo</td>\n",
        "      <td> 2014-08-06T01:12:33+0000</td>\n",
        "    </tr>\n",
        "    <tr>\n",
        "      <th>1</th>\n",
        "      <td> [{u'link': u'https://www.facebook.com/26922814...</td>\n",
        "      <td> {u'namespace': u'fbiphone', u'name': u'Faceboo...</td>\n",
        "      <td> 44 percent of Americans now live in a state wi...</td>\n",
        "      <td>  8</td>\n",
        "      <td> {u'paging': {u'cursors': {u'after': u'OA==', u...</td>\n",
        "      <td> 2014-05-22T02:16:01+0000</td>\n",
        "      <td>                                               NaN</td>\n",
        "      <td> {u'category': u'Political organization', u'nam...</td>\n",
        "      <td> 22</td>\n",
        "      <td> https://fbstatic-a.akamaihd.net/rsrc.php/v2/yD...</td>\n",
        "      <td>...</td>\n",
        "      <td> {u'value': u''}</td>\n",
        "      <td> [{u'text': u'Human Rights Campaign', u'href': ...</td>\n",
        "      <td>   0</td>\n",
        "      <td>             NaN</td>\n",
        "      <td> NaN</td>\n",
        "      <td> shared_story</td>\n",
        "      <td> Washington United for Marriage shared Human Ri...</td>\n",
        "      <td> NaN</td>\n",
        "      <td> photo</td>\n",
        "      <td> 2014-06-13T03:47:14+0000</td>\n",
        "    </tr>\n",
        "    <tr>\n",
        "      <th>2</th>\n",
        "      <td> [{u'link': u'https://www.facebook.com/26922814...</td>\n",
        "      <td>                                               NaN</td>\n",
        "      <td>                                          llaa.org</td>\n",
        "      <td>  4</td>\n",
        "      <td> {u'paging': {u'cursors': {u'after': u'NA==', u...</td>\n",
        "      <td> 2014-01-31T03:33:37+0000</td>\n",
        "      <td> Accept the $12 buck challenge. Donate $12 by S...</td>\n",
        "      <td> {u'category': u'Political organization', u'nam...</td>\n",
        "      <td> 22</td>\n",
        "      <td> https://fbstatic-a.akamaihd.net/rsrc.php/v2/yD...</td>\n",
        "      <td>...</td>\n",
        "      <td> {u'value': u''}</td>\n",
        "      <td>                                               NaN</td>\n",
        "      <td>   1</td>\n",
        "      <td>   {u'count': 1}</td>\n",
        "      <td> NaN</td>\n",
        "      <td> shared_story</td>\n",
        "      <td>                                               NaN</td>\n",
        "      <td> NaN</td>\n",
        "      <td>  link</td>\n",
        "      <td> 2014-06-22T23:12:58+0000</td>\n",
        "    </tr>\n",
        "    <tr>\n",
        "      <th>3</th>\n",
        "      <td> [{u'link': u'https://www.facebook.com/26922814...</td>\n",
        "      <td>                                               NaN</td>\n",
        "      <td>                     glamoursqualor.eventbrite.com</td>\n",
        "      <td>  0</td>\n",
        "      <td> {u'paging': {u'cursors': {u'after': u'NQ==', u...</td>\n",
        "      <td> 2013-10-08T18:28:53+0000</td>\n",
        "      <td> Please join us for an evening of local music c...</td>\n",
        "      <td> {u'category': u'Political organization', u'nam...</td>\n",
        "      <td> 14</td>\n",
        "      <td> https://fbstatic-a.akamaihd.net/rsrc.php/v2/yD...</td>\n",
        "      <td>...</td>\n",
        "      <td> {u'value': u''}</td>\n",
        "      <td>                                               NaN</td>\n",
        "      <td>   1</td>\n",
        "      <td>   {u'count': 1}</td>\n",
        "      <td> NaN</td>\n",
        "      <td> shared_story</td>\n",
        "      <td>                                               NaN</td>\n",
        "      <td> NaN</td>\n",
        "      <td>  link</td>\n",
        "      <td> 2014-06-13T03:50:38+0000</td>\n",
        "    </tr>\n",
        "    <tr>\n",
        "      <th>4</th>\n",
        "      <td> [{u'link': u'https://www.facebook.com/26922814...</td>\n",
        "      <td>                                               NaN</td>\n",
        "      <td>                                               NaN</td>\n",
        "      <td>  0</td>\n",
        "      <td>                                               NaN</td>\n",
        "      <td> 2013-07-30T22:33:41+0000</td>\n",
        "      <td>                                               NaN</td>\n",
        "      <td> {u'category': u'Political organization', u'nam...</td>\n",
        "      <td> 18</td>\n",
        "      <td>                                               NaN</td>\n",
        "      <td>...</td>\n",
        "      <td> {u'value': u''}</td>\n",
        "      <td>                                               NaN</td>\n",
        "      <td>   0</td>\n",
        "      <td>             NaN</td>\n",
        "      <td> NaN</td>\n",
        "      <td>          NaN</td>\n",
        "      <td>  Washington United for Marriage created an event.</td>\n",
        "      <td> NaN</td>\n",
        "      <td>  link</td>\n",
        "      <td> 2014-04-26T03:55:36+0000</td>\n",
        "    </tr>\n",
        "  </tbody>\n",
        "</table>\n",
        "<p>5 rows \u00d7 30 columns</p>\n",
        "</div>"
       ],
       "metadata": {},
       "output_type": "pyout",
       "prompt_number": 6,
       "text": [
        "                                             actions  \\\n",
        "0  [{u'link': u'https://www.facebook.com/26922814...   \n",
        "1  [{u'link': u'https://www.facebook.com/26922814...   \n",
        "2  [{u'link': u'https://www.facebook.com/26922814...   \n",
        "3  [{u'link': u'https://www.facebook.com/26922814...   \n",
        "4  [{u'link': u'https://www.facebook.com/26922814...   \n",
        "\n",
        "                                         application  \\\n",
        "0  {u'namespace': u'fbiphone', u'name': u'Faceboo...   \n",
        "1  {u'namespace': u'fbiphone', u'name': u'Faceboo...   \n",
        "2                                                NaN   \n",
        "3                                                NaN   \n",
        "4                                                NaN   \n",
        "\n",
        "                                             caption  comment_count_api  \\\n",
        "0                                                NaN                 80   \n",
        "1  44 percent of Americans now live in a state wi...                  8   \n",
        "2                                           llaa.org                  4   \n",
        "3                      glamoursqualor.eventbrite.com                  0   \n",
        "4                                                NaN                  0   \n",
        "\n",
        "                                            comments  \\\n",
        "0  {u'paging': {u'cursors': {u'after': u'MjU=', u...   \n",
        "1  {u'paging': {u'cursors': {u'after': u'OA==', u...   \n",
        "2  {u'paging': {u'cursors': {u'after': u'NA==', u...   \n",
        "3  {u'paging': {u'cursors': {u'after': u'NQ==', u...   \n",
        "4                                                NaN   \n",
        "\n",
        "               created_time  \\\n",
        "0  2014-07-01T01:57:32+0000   \n",
        "1  2014-05-22T02:16:01+0000   \n",
        "2  2014-01-31T03:33:37+0000   \n",
        "3  2013-10-08T18:28:53+0000   \n",
        "4  2013-07-30T22:33:41+0000   \n",
        "\n",
        "                                         description  \\\n",
        "0                                                NaN   \n",
        "1                                                NaN   \n",
        "2  Accept the $12 buck challenge. Donate $12 by S...   \n",
        "3  Please join us for an evening of local music c...   \n",
        "4                                                NaN   \n",
        "\n",
        "                                                from  hour  \\\n",
        "0  {u'category': u'Political organization', u'nam...    21   \n",
        "1  {u'category': u'Political organization', u'nam...    22   \n",
        "2  {u'category': u'Political organization', u'nam...    22   \n",
        "3  {u'category': u'Political organization', u'nam...    14   \n",
        "4  {u'category': u'Political organization', u'nam...    18   \n",
        "\n",
        "                                                icon  \\\n",
        "0  https://fbstatic-a.akamaihd.net/rsrc.php/v2/yx...   \n",
        "1  https://fbstatic-a.akamaihd.net/rsrc.php/v2/yD...   \n",
        "2  https://fbstatic-a.akamaihd.net/rsrc.php/v2/yD...   \n",
        "3  https://fbstatic-a.akamaihd.net/rsrc.php/v2/yD...   \n",
        "4                                                NaN   \n",
        "\n",
        "                         ...                                  privacy  \\\n",
        "0                        ...                          {u'value': u''}   \n",
        "1                        ...                          {u'value': u''}   \n",
        "2                        ...                          {u'value': u''}   \n",
        "3                        ...                          {u'value': u''}   \n",
        "4                        ...                          {u'value': u''}   \n",
        "\n",
        "                                          properties share_count_api  \\\n",
        "0                                                NaN             272   \n",
        "1  [{u'text': u'Human Rights Campaign', u'href': ...               0   \n",
        "2                                                NaN               1   \n",
        "3                                                NaN               1   \n",
        "4                                                NaN               0   \n",
        "\n",
        "            shares source   status_type  \\\n",
        "0  {u'count': 272}    NaN  added_photos   \n",
        "1              NaN    NaN  shared_story   \n",
        "2    {u'count': 1}    NaN  shared_story   \n",
        "3    {u'count': 1}    NaN  shared_story   \n",
        "4              NaN    NaN           NaN   \n",
        "\n",
        "                                               story   to   type  \\\n",
        "0                                                NaN  NaN  photo   \n",
        "1  Washington United for Marriage shared Human Ri...  NaN  photo   \n",
        "2                                                NaN  NaN   link   \n",
        "3                                                NaN  NaN   link   \n",
        "4   Washington United for Marriage created an event.  NaN   link   \n",
        "\n",
        "               updated_time  \n",
        "0  2014-08-06T01:12:33+0000  \n",
        "1  2014-06-13T03:47:14+0000  \n",
        "2  2014-06-22T23:12:58+0000  \n",
        "3  2014-06-13T03:50:38+0000  \n",
        "4  2014-04-26T03:55:36+0000  \n",
        "\n",
        "[5 rows x 30 columns]"
       ]
      }
     ],
     "prompt_number": 6
    },
    {
     "cell_type": "code",
     "collapsed": false,
     "input": [
      "df['like_count']"
     ],
     "language": "python",
     "metadata": {},
     "outputs": [
      {
       "metadata": {},
       "output_type": "pyout",
       "prompt_number": 88,
       "text": [
        "0      3\n",
        "1      9\n",
        "2      1\n",
        "3     11\n",
        "4      1\n",
        "5     19\n",
        "6      1\n",
        "7      7\n",
        "8      7\n",
        "9      0\n",
        "10     3\n",
        "11     0\n",
        "12     1\n",
        "13     0\n",
        "14     5\n",
        "...\n",
        "1503    0\n",
        "1504    0\n",
        "1505    0\n",
        "1506    0\n",
        "1507    0\n",
        "1508    0\n",
        "1509    0\n",
        "1510    0\n",
        "1511    0\n",
        "1512    0\n",
        "1513    0\n",
        "1514    0\n",
        "1515    0\n",
        "1516    0\n",
        "1517    0\n",
        "Name: like_count, Length: 1518, dtype: int64"
       ]
      }
     ],
     "prompt_number": 88
    },
    {
     "cell_type": "code",
     "collapsed": false,
     "input": [
      "df.head()"
     ],
     "language": "python",
     "metadata": {},
     "outputs": [
      {
       "html": [
        "<div style=\"max-height:1000px;max-width:1500px;overflow:auto;\">\n",
        "<table border=\"1\" class=\"dataframe\">\n",
        "  <thead>\n",
        "    <tr style=\"text-align: right;\">\n",
        "      <th></th>\n",
        "      <th>actions</th>\n",
        "      <th>application</th>\n",
        "      <th>caption</th>\n",
        "      <th>comment_count</th>\n",
        "      <th>comments</th>\n",
        "      <th>created_time</th>\n",
        "      <th>description</th>\n",
        "      <th>from</th>\n",
        "      <th>height</th>\n",
        "      <th>icon</th>\n",
        "      <th>...</th>\n",
        "      <th>share_count</th>\n",
        "      <th>shares</th>\n",
        "      <th>source</th>\n",
        "      <th>status_type</th>\n",
        "      <th>story</th>\n",
        "      <th>to</th>\n",
        "      <th>type</th>\n",
        "      <th>updated_time</th>\n",
        "      <th>width</th>\n",
        "      <th>with_tags</th>\n",
        "    </tr>\n",
        "  </thead>\n",
        "  <tbody>\n",
        "    <tr>\n",
        "      <th>0</th>\n",
        "      <td> [{u'link': u'https://www.facebook.com/56996646...</td>\n",
        "      <td>    {u'name': u'Links', u'id': u'2309869772'}</td>\n",
        "      <td>                                  www.alternet.org</td>\n",
        "      <td> 1</td>\n",
        "      <td> {u'paging': {u'cursors': {u'after': u'MQ==', u...</td>\n",
        "      <td> 2014-08-23T22:28:51+0000</td>\n",
        "      <td> Say goodnight to the dream that education, jou...</td>\n",
        "      <td> {u'id': u'569966468', u'name': u'Josh Cohen'}</td>\n",
        "      <td>NaN</td>\n",
        "      <td> https://fbstatic-a.akamaihd.net/rsrc.php/v2/y5...</td>\n",
        "      <td>...</td>\n",
        "      <td> 1</td>\n",
        "      <td> {u'count': 1}</td>\n",
        "      <td>                                               NaN</td>\n",
        "      <td> shared_story</td>\n",
        "      <td>                                           NaN</td>\n",
        "      <td> NaN</td>\n",
        "      <td>  link</td>\n",
        "      <td> 2014-08-23T22:53:15+0000</td>\n",
        "      <td>NaN</td>\n",
        "      <td> NaN</td>\n",
        "    </tr>\n",
        "    <tr>\n",
        "      <th>1</th>\n",
        "      <td> [{u'link': u'https://www.facebook.com/56996646...</td>\n",
        "      <td>   {u'name': u'Photos', u'id': u'2305272732'}</td>\n",
        "      <td> This is one of many reasons we hate Ann Coulte...</td>\n",
        "      <td> 2</td>\n",
        "      <td> {u'paging': {u'cursors': {u'after': u'Mg==', u...</td>\n",
        "      <td> 2014-08-21T13:33:02+0000</td>\n",
        "      <td>                                               NaN</td>\n",
        "      <td> {u'id': u'569966468', u'name': u'Josh Cohen'}</td>\n",
        "      <td>NaN</td>\n",
        "      <td> https://fbstatic-a.akamaihd.net/rsrc.php/v2/yD...</td>\n",
        "      <td>...</td>\n",
        "      <td> 0</td>\n",
        "      <td>           NaN</td>\n",
        "      <td>                                               NaN</td>\n",
        "      <td> shared_story</td>\n",
        "      <td> Josh Cohen shared Blue Nation Review's photo.</td>\n",
        "      <td> NaN</td>\n",
        "      <td> photo</td>\n",
        "      <td> 2014-08-22T15:08:48+0000</td>\n",
        "      <td>NaN</td>\n",
        "      <td> NaN</td>\n",
        "    </tr>\n",
        "    <tr>\n",
        "      <th>2</th>\n",
        "      <td> [{u'link': u'https://www.facebook.com/56996646...</td>\n",
        "      <td>                                          NaN</td>\n",
        "      <td>                                               NaN</td>\n",
        "      <td> 1</td>\n",
        "      <td> {u'paging': {u'cursors': {u'after': u'MQ==', u...</td>\n",
        "      <td> 2014-08-21T13:25:33+0000</td>\n",
        "      <td> Farnborough International Airshow Live Broadca...</td>\n",
        "      <td> {u'id': u'569966468', u'name': u'Josh Cohen'}</td>\n",
        "      <td>NaN</td>\n",
        "      <td> https://fbstatic-a.akamaihd.net/rsrc.php/v2/yj...</td>\n",
        "      <td>...</td>\n",
        "      <td> 0</td>\n",
        "      <td>           NaN</td>\n",
        "      <td> http://www.youtube.com/v/vzr313wSY_Y?autohide=...</td>\n",
        "      <td> shared_story</td>\n",
        "      <td>                                           NaN</td>\n",
        "      <td> NaN</td>\n",
        "      <td> video</td>\n",
        "      <td> 2014-08-21T16:26:44+0000</td>\n",
        "      <td>NaN</td>\n",
        "      <td> NaN</td>\n",
        "    </tr>\n",
        "    <tr>\n",
        "      <th>3</th>\n",
        "      <td> [{u'link': u'https://www.facebook.com/56996646...</td>\n",
        "      <td>                                          NaN</td>\n",
        "      <td>                                  www.dailykos.com</td>\n",
        "      <td> 1</td>\n",
        "      <td> {u'paging': {u'cursors': {u'after': u'MQ==', u...</td>\n",
        "      <td> 2014-08-20T19:52:26+0000</td>\n",
        "      <td> It seems that some citizens of Ferguson want t...</td>\n",
        "      <td> {u'id': u'569966468', u'name': u'Josh Cohen'}</td>\n",
        "      <td>NaN</td>\n",
        "      <td> https://fbstatic-a.akamaihd.net/rsrc.php/v2/y5...</td>\n",
        "      <td>...</td>\n",
        "      <td> 1</td>\n",
        "      <td> {u'count': 1}</td>\n",
        "      <td>                                               NaN</td>\n",
        "      <td> shared_story</td>\n",
        "      <td>                                           NaN</td>\n",
        "      <td> NaN</td>\n",
        "      <td>  link</td>\n",
        "      <td> 2014-08-20T20:05:56+0000</td>\n",
        "      <td>NaN</td>\n",
        "      <td> NaN</td>\n",
        "    </tr>\n",
        "    <tr>\n",
        "      <th>4</th>\n",
        "      <td> [{u'link': u'https://www.facebook.com/56996646...</td>\n",
        "      <td> {u'name': u'iOS', u'id': u'213546525407071'}</td>\n",
        "      <td>                              valleywag.gawker.com</td>\n",
        "      <td> 2</td>\n",
        "      <td> {u'paging': {u'cursors': {u'after': u'Mg==', u...</td>\n",
        "      <td> 2014-08-19T15:12:02+0000</td>\n",
        "      <td> Just because Uber's motto is \"Everyone's priva...</td>\n",
        "      <td> {u'id': u'569966468', u'name': u'Josh Cohen'}</td>\n",
        "      <td>NaN</td>\n",
        "      <td> https://fbstatic-a.akamaihd.net/rsrc.php/v2/y5...</td>\n",
        "      <td>...</td>\n",
        "      <td> 0</td>\n",
        "      <td>           NaN</td>\n",
        "      <td>                                               NaN</td>\n",
        "      <td> shared_story</td>\n",
        "      <td>                                           NaN</td>\n",
        "      <td> NaN</td>\n",
        "      <td>  link</td>\n",
        "      <td> 2014-08-20T22:35:40+0000</td>\n",
        "      <td>NaN</td>\n",
        "      <td> NaN</td>\n",
        "    </tr>\n",
        "  </tbody>\n",
        "</table>\n",
        "<p>5 rows \u00d7 33 columns</p>\n",
        "</div>"
       ],
       "metadata": {},
       "output_type": "pyout",
       "prompt_number": 90,
       "text": [
        "                                             actions  \\\n",
        "0  [{u'link': u'https://www.facebook.com/56996646...   \n",
        "1  [{u'link': u'https://www.facebook.com/56996646...   \n",
        "2  [{u'link': u'https://www.facebook.com/56996646...   \n",
        "3  [{u'link': u'https://www.facebook.com/56996646...   \n",
        "4  [{u'link': u'https://www.facebook.com/56996646...   \n",
        "\n",
        "                                    application  \\\n",
        "0     {u'name': u'Links', u'id': u'2309869772'}   \n",
        "1    {u'name': u'Photos', u'id': u'2305272732'}   \n",
        "2                                           NaN   \n",
        "3                                           NaN   \n",
        "4  {u'name': u'iOS', u'id': u'213546525407071'}   \n",
        "\n",
        "                                             caption  comment_count  \\\n",
        "0                                   www.alternet.org              1   \n",
        "1  This is one of many reasons we hate Ann Coulte...              2   \n",
        "2                                                NaN              1   \n",
        "3                                   www.dailykos.com              1   \n",
        "4                               valleywag.gawker.com              2   \n",
        "\n",
        "                                            comments  \\\n",
        "0  {u'paging': {u'cursors': {u'after': u'MQ==', u...   \n",
        "1  {u'paging': {u'cursors': {u'after': u'Mg==', u...   \n",
        "2  {u'paging': {u'cursors': {u'after': u'MQ==', u...   \n",
        "3  {u'paging': {u'cursors': {u'after': u'MQ==', u...   \n",
        "4  {u'paging': {u'cursors': {u'after': u'Mg==', u...   \n",
        "\n",
        "               created_time  \\\n",
        "0  2014-08-23T22:28:51+0000   \n",
        "1  2014-08-21T13:33:02+0000   \n",
        "2  2014-08-21T13:25:33+0000   \n",
        "3  2014-08-20T19:52:26+0000   \n",
        "4  2014-08-19T15:12:02+0000   \n",
        "\n",
        "                                         description  \\\n",
        "0  Say goodnight to the dream that education, jou...   \n",
        "1                                                NaN   \n",
        "2  Farnborough International Airshow Live Broadca...   \n",
        "3  It seems that some citizens of Ferguson want t...   \n",
        "4  Just because Uber's motto is \"Everyone's priva...   \n",
        "\n",
        "                                            from  height  \\\n",
        "0  {u'id': u'569966468', u'name': u'Josh Cohen'}     NaN   \n",
        "1  {u'id': u'569966468', u'name': u'Josh Cohen'}     NaN   \n",
        "2  {u'id': u'569966468', u'name': u'Josh Cohen'}     NaN   \n",
        "3  {u'id': u'569966468', u'name': u'Josh Cohen'}     NaN   \n",
        "4  {u'id': u'569966468', u'name': u'Josh Cohen'}     NaN   \n",
        "\n",
        "                                                icon  \\\n",
        "0  https://fbstatic-a.akamaihd.net/rsrc.php/v2/y5...   \n",
        "1  https://fbstatic-a.akamaihd.net/rsrc.php/v2/yD...   \n",
        "2  https://fbstatic-a.akamaihd.net/rsrc.php/v2/yj...   \n",
        "3  https://fbstatic-a.akamaihd.net/rsrc.php/v2/y5...   \n",
        "4  https://fbstatic-a.akamaihd.net/rsrc.php/v2/y5...   \n",
        "\n",
        "                         ...                         share_count  \\\n",
        "0                        ...                                   1   \n",
        "1                        ...                                   0   \n",
        "2                        ...                                   0   \n",
        "3                        ...                                   1   \n",
        "4                        ...                                   0   \n",
        "\n",
        "          shares                                             source  \\\n",
        "0  {u'count': 1}                                                NaN   \n",
        "1            NaN                                                NaN   \n",
        "2            NaN  http://www.youtube.com/v/vzr313wSY_Y?autohide=...   \n",
        "3  {u'count': 1}                                                NaN   \n",
        "4            NaN                                                NaN   \n",
        "\n",
        "    status_type                                          story   to   type  \\\n",
        "0  shared_story                                            NaN  NaN   link   \n",
        "1  shared_story  Josh Cohen shared Blue Nation Review's photo.  NaN  photo   \n",
        "2  shared_story                                            NaN  NaN  video   \n",
        "3  shared_story                                            NaN  NaN   link   \n",
        "4  shared_story                                            NaN  NaN   link   \n",
        "\n",
        "               updated_time width with_tags  \n",
        "0  2014-08-23T22:53:15+0000   NaN       NaN  \n",
        "1  2014-08-22T15:08:48+0000   NaN       NaN  \n",
        "2  2014-08-21T16:26:44+0000   NaN       NaN  \n",
        "3  2014-08-20T20:05:56+0000   NaN       NaN  \n",
        "4  2014-08-20T22:35:40+0000   NaN       NaN  \n",
        "\n",
        "[5 rows x 33 columns]"
       ]
      }
     ],
     "prompt_number": 90
    },
    {
     "cell_type": "code",
     "collapsed": false,
     "input": [
      "times = df['created_time'].values\n",
      "times"
     ],
     "language": "python",
     "metadata": {},
     "outputs": [
      {
       "metadata": {},
       "output_type": "pyout",
       "prompt_number": 179,
       "text": [
        "array([u'2014-08-24T03:37:22+0000', u'2014-08-24T03:09:28+0000',\n",
        "       u'2014-08-23T21:05:21+0000', ..., u'2013-08-29T18:26:55+0000',\n",
        "       u'2013-08-29T17:22:50+0000', u'2013-08-29T15:20:28+0000'], dtype=object)"
       ]
      }
     ],
     "prompt_number": 179
    },
    {
     "cell_type": "code",
     "collapsed": false,
     "input": [
      "shares = df['share_count_api'].values\n",
      "likes = df['like_count_api'].values\n",
      "comments = df['comment_count_api'].values\n",
      "hours = df['hour'].values"
     ],
     "language": "python",
     "metadata": {},
     "outputs": [],
     "prompt_number": 7
    },
    {
     "cell_type": "code",
     "collapsed": false,
     "input": [
      "hours\n"
     ],
     "language": "python",
     "metadata": {},
     "outputs": [
      {
       "metadata": {},
       "output_type": "pyout",
       "prompt_number": 8,
       "text": [
        "array([21, 22, 22, 14, 18, 11, 10,  2, 12, 23, 13, 11, 13, 21,  0, 13,  1,\n",
        "       21, 19, 17, 22, 20, 18, 16,  2, 20, 17, 16,  4,  0, 22, 19, 18, 15,\n",
        "        1, 23, 21, 14, 18,  0, 13, 22, 21, 19, 16, 23, 21, 18, 22, 19, 15,\n",
        "       22, 14, 21, 15, 14, 15, 22, 19,  0, 19, 16, 21, 17, 13, 22, 22, 19,\n",
        "       15, 17, 16, 16, 13, 23, 21, 16, 19, 16, 16, 15, 15,  3,  0, 20, 18,\n",
        "       16, 14, 12,  0, 22, 20, 18, 17, 17, 17, 16, 13,  0, 22, 20, 18, 15,\n",
        "       13, 23, 20, 18, 16,  1, 22, 20, 20, 18, 16, 15,  1, 22, 20, 18, 16,\n",
        "       13,  2,  0, 23, 21, 19, 18, 16, 16, 16, 16, 16, 15, 15, 15, 15, 15,\n",
        "       13,  3, 23, 21, 19, 16, 14,  2,  0, 20, 17, 12,  0, 23, 20, 15,  1,\n",
        "       21, 19, 16,  1, 23, 22, 18, 14, 13, 12,  1, 23, 19, 18, 15, 14,  0,\n",
        "       22, 19, 18, 15,  1, 23, 21, 19, 15, 14, 12, 11,  1,  0, 21, 21, 18,\n",
        "       14,  2,  2,  2,  2,  2,  2,  2,  2,  2,  2,  2,  1, 21, 19, 19, 19,\n",
        "       18, 14,  1, 22, 18, 14,  1, 22, 16, 12, 23, 22, 21, 17, 14, 23, 21,\n",
        "       17, 15,  0,  0, 20, 18, 13,  2,  0, 22, 20, 17, 14, 11,  0, 22, 20,\n",
        "       17, 15,  0, 22, 20, 16, 13, 22, 19, 15, 13,  1, 22, 19, 16, 11, 19,\n",
        "       16, 15, 14, 23, 20, 20, 18, 15, 13,  0, 23, 20, 18, 15, 14, 14, 13,\n",
        "       23, 18, 23, 21, 17, 13, 23, 21, 19, 16, 13, 23, 21, 16,  0, 21, 19,\n",
        "       16, 15, 12, 23, 21, 19, 16, 14, 13,  0, 19, 18, 16, 13, 23, 21, 18,\n",
        "       14, 19, 17, 14, 22, 19, 16, 13, 21, 17, 16,  1, 22, 17, 12, 20, 18,\n",
        "       12, 23, 18, 16, 13,  9, 21, 18, 20,  0, 22, 21, 19, 16, 22, 19, 17,\n",
        "       13,  0, 22, 19, 13, 22, 19, 15, 13, 22, 19, 16, 14, 11, 22, 18, 16,\n",
        "       13, 22, 19, 15, 22, 19, 16, 14, 19, 15, 12, 21, 20, 18, 16, 12, 20,\n",
        "       16, 15, 14, 14, 14, 14, 14, 14, 23, 19, 16, 23, 19, 15, 13, 23, 21,\n",
        "       18, 16, 14, 23, 20, 18, 15, 13, 18, 15, 23, 16, 14, 22, 20, 18, 22,\n",
        "       19, 17, 16, 23, 19, 19, 16, 18, 15, 23, 21, 16, 22, 18, 14, 22, 20,\n",
        "       17, 14, 22, 19, 18,  0, 22, 20, 17, 22, 18,  0, 22, 18, 15, 23, 20,\n",
        "       17, 14,  0, 21, 19, 17,  0, 20, 18, 14, 23, 21, 20, 17, 15, 18, 20,\n",
        "       19, 18, 19, 16,  0, 23, 16, 20, 19, 20, 15, 20, 18, 17,  1, 22, 18,\n",
        "       20, 16, 19, 23, 23, 21, 18, 23, 20, 16, 22, 18,  0, 21, 18, 21, 18,\n",
        "       16, 18, 22, 19,  0, 19, 17, 15, 17, 10, 16,  0, 20, 16, 20, 17, 22,\n",
        "       18, 19, 22, 22, 19, 13, 23, 16, 14,  1, 19, 17,  0, 23, 19, 13, 23,\n",
        "       21, 17,  0, 19, 15,  1, 14, 21, 13, 22, 20, 16,  0, 20, 15,  0, 22,\n",
        "       18, 18, 15, 21, 16, 23, 20, 22, 18,  0, 21, 16, 15, 23, 19, 16, 20,\n",
        "       17, 14, 16, 14, 21, 22, 20, 18, 21, 18,  0, 19, 15, 17, 22, 19,  0,\n",
        "       15, 14, 23, 17, 23, 19, 16,  0, 19, 17, 20, 21, 15, 12, 14, 13, 16,\n",
        "       13, 23, 15, 12,  2, 17, 12, 18, 15, 10, 16, 13, 11, 19, 16, 16, 15,\n",
        "       21, 16, 13, 11, 20, 16, 11, 20, 16, 16,  0, 20, 13, 17, 11, 17, 21,\n",
        "       16, 11, 19, 15, 21, 21, 16, 18, 15, 20, 11, 20, 19, 14, 19, 18, 14,\n",
        "       17, 20, 13, 22, 16, 14, 18, 19, 17, 21, 15, 14, 12,  0, 17, 13, 22,\n",
        "       18, 13, 23, 14, 16, 19, 16, 17, 13, 19, 20, 13, 19, 16, 20, 13, 23,\n",
        "       15, 23, 21, 19, 15, 11, 15, 22, 11, 20, 18, 16,  0, 20, 15, 12, 12,\n",
        "       14,  0, 15, 14, 21, 18, 13, 12, 23, 21, 13, 16, 12, 22, 18, 14, 13,\n",
        "       14, 12, 18, 22, 17, 15, 22, 15, 15,  0,  3, 11, 22, 15, 23, 17, 15,\n",
        "       12, 12, 15, 13, 22, 15, 13, 21, 16, 12, 22, 20, 18, 15,  0, 19, 15,\n",
        "       15, 15, 15, 14, 13, 13, 22,  0, 18, 15, 14, 14, 13, 18, 14, 13,  1,\n",
        "       13, 18, 22, 12, 15, 21, 19, 23, 23, 18, 18, 20,  4, 15, 14, 11, 17,\n",
        "       15, 18, 19, 14, 21, 17,  0, 21, 14,  8, 21, 17, 15, 14, 11, 11, 11,\n",
        "       11, 10, 10, 10, 10, 10, 10, 10, 10, 10, 10, 10, 10, 14,  2, 12, 20,\n",
        "       14, 15, 13,  0, 19, 13, 23, 22, 17, 13, 12, 21, 19, 16, 15, 12, 10,\n",
        "       19, 19, 17, 11, 20, 20, 15, 23], dtype=int64)"
       ]
      }
     ],
     "prompt_number": 8
    },
    {
     "cell_type": "code",
     "collapsed": false,
     "input": [
      "%pylab inline\n",
      "import matplotlib.pyplot as plt\n"
     ],
     "language": "python",
     "metadata": {},
     "outputs": [
      {
       "output_type": "stream",
       "stream": "stdout",
       "text": [
        "Populating the interactive namespace from numpy and matplotlib\n"
       ]
      }
     ],
     "prompt_number": 9
    },
    {
     "cell_type": "code",
     "collapsed": false,
     "input": [
      "points=df.ix[:,('share_count', 'comment_count')].values"
     ],
     "language": "python",
     "metadata": {},
     "outputs": [],
     "prompt_number": 182
    },
    {
     "cell_type": "code",
     "collapsed": false,
     "input": [
      "plt.xkcd()"
     ],
     "language": "python",
     "metadata": {},
     "outputs": [
      {
       "metadata": {},
       "output_type": "pyout",
       "prompt_number": 192,
       "text": [
        "<matplotlib.rc_context at 0x1488c2e8>"
       ]
      }
     ],
     "prompt_number": 192
    },
    {
     "cell_type": "code",
     "collapsed": false,
     "input": [
      "plt.scatter(likes,shares)"
     ],
     "language": "python",
     "metadata": {},
     "outputs": [
      {
       "metadata": {},
       "output_type": "pyout",
       "prompt_number": 10,
       "text": [
        "<matplotlib.collections.PathCollection at 0xf232a58>"
       ]
      },
      {
       "metadata": {},
       "output_type": "display_data",
       "png": "[encoded data removed]",
       "text": [
        "<matplotlib.figure.Figure at 0xf0f9d68>"
       ]
      }
     ],
     "prompt_number": 10
    },
    {
     "cell_type": "code",
     "collapsed": false,
     "input": [
      "df.to_csv('wufm.csv', encoding='utf-8')"
     ],
     "language": "python",
     "metadata": {},
     "outputs": [],
     "prompt_number": 14
    },
    {
     "cell_type": "code",
     "collapsed": false,
     "input": [
      "plt.scatter(hours,comments)"
     ],
     "language": "python",
     "metadata": {},
     "outputs": [
      {
       "metadata": {},
       "output_type": "pyout",
       "prompt_number": 11,
       "text": [
        "<matplotlib.collections.PathCollection at 0xf386240>"
       ]
      },
      {
       "metadata": {},
       "output_type": "display_data",
       "png": "[encoded data removed]",
       "text": [
        "<matplotlib.figure.Figure at 0xf414f60>"
       ]
      }
     ],
     "prompt_number": 11
    },
    {
     "cell_type": "code",
     "collapsed": false,
     "input": [
      "plt.scatter(hours,likes)"
     ],
     "language": "python",
     "metadata": {},
     "outputs": [
      {
       "metadata": {},
       "output_type": "pyout",
       "prompt_number": 12,
       "text": [
        "<matplotlib.collections.PathCollection at 0xf6fc7b8>"
       ]
      },
      {
       "metadata": {},
       "output_type": "display_data",
       "png": "[encoded data removed]",
       "text": [
        "<matplotlib.figure.Figure at 0xf5ab4e0>"
       ]
      }
     ],
     "prompt_number": 12
    },
    {
     "cell_type": "code",
     "collapsed": false,
     "input": [
      "plt.scatter(hours,shares)"
     ],
     "language": "python",
     "metadata": {},
     "outputs": [
      {
       "metadata": {},
       "output_type": "pyout",
       "prompt_number": 13,
       "text": [
        "<matplotlib.collections.PathCollection at 0xf8e8f28>"
       ]
      },
      {
       "metadata": {},
       "output_type": "display_data",
       "png": "[encoded data removed]",
       "text": [
        "<matplotlib.figure.Figure at 0xf825b38>"
       ]
      }
     ],
     "prompt_number": 13
    },
    {
     "cell_type": "code",
     "collapsed": false,
     "input": [
      "df.shape"
     ],
     "language": "python",
     "metadata": {},
     "outputs": [
      {
       "metadata": {},
       "output_type": "pyout",
       "prompt_number": 166,
       "text": [
        "(1518, 34)"
       ]
      }
     ],
     "prompt_number": 166
    },
    {
     "cell_type": "code",
     "collapsed": false,
     "input": [
      "def adder(a,b):\n",
      "    r= a+b\n",
      "    return r\n",
      "adder(df['like_count'],df['share_count'])"
     ],
     "language": "python",
     "metadata": {},
     "outputs": [
      {
       "metadata": {},
       "output_type": "pyout",
       "prompt_number": 199,
       "text": [
        "0       0\n",
        "1       0\n",
        "2       7\n",
        "3      25\n",
        "4     264\n",
        "5     264\n",
        "6       1\n",
        "7     154\n",
        "8     444\n",
        "9       0\n",
        "10     25\n",
        "11    969\n",
        "12      1\n",
        "13      0\n",
        "14     20\n",
        "...\n",
        "2535     197\n",
        "2536       5\n",
        "2537      25\n",
        "2538     690\n",
        "2539     396\n",
        "2540       0\n",
        "2541    3116\n",
        "2542       1\n",
        "2543       1\n",
        "2544     104\n",
        "2545     190\n",
        "2546       0\n",
        "2547    4105\n",
        "2548      39\n",
        "2549      77\n",
        "Length: 2550, dtype: int64"
       ]
      }
     ],
     "prompt_number": 199
    },
    {
     "cell_type": "code",
     "collapsed": false,
     "input": [],
     "language": "python",
     "metadata": {},
     "outputs": []
    }
   ],
   "metadata": {}
  }
 ]
}
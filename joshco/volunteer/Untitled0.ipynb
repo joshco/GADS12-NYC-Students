{
 "metadata": {
  "name": "",
  "signature": "sha256:d393bcc9e1814fcdb76da463cad3503fa831b3ddaec50214d038e2fe19da0b7d"
 },
 "nbformat": 3,
 "nbformat_minor": 0,
 "worksheets": [
  {
   "cells": [
    {
     "cell_type": "code",
     "collapsed": false,
     "input": [
      "import pandas as pd"
     ],
     "language": "python",
     "metadata": {},
     "outputs": [],
     "prompt_number": 1
    },
    {
     "cell_type": "code",
     "collapsed": false,
     "input": [
      "xls = pd.ExcelFile('events.xlsx')"
     ],
     "language": "python",
     "metadata": {},
     "outputs": [],
     "prompt_number": 4
    },
    {
     "cell_type": "code",
     "collapsed": false,
     "input": [
      "events=xls.parse('events',index_col=None)"
     ],
     "language": "python",
     "metadata": {},
     "outputs": [],
     "prompt_number": 13
    },
    {
     "cell_type": "code",
     "collapsed": false,
     "input": [
      "ziptotals=xls.parse('zbp12totals',index_col=None)"
     ],
     "language": "python",
     "metadata": {},
     "outputs": [],
     "prompt_number": 15
    },
    {
     "cell_type": "code",
     "collapsed": false,
     "input": [
      "combo=pd.merge(events,ziptotals,how='left')"
     ],
     "language": "python",
     "metadata": {},
     "outputs": [],
     "prompt_number": 17
    },
    {
     "cell_type": "code",
     "collapsed": false,
     "input": [
      "combo.head()"
     ],
     "language": "python",
     "metadata": {},
     "outputs": [
      {
       "html": [
        "<div style=\"max-height:1000px;max-width:1500px;overflow:auto;\">\n",
        "<table border=\"1\" class=\"dataframe\">\n",
        "  <thead>\n",
        "    <tr style=\"text-align: right;\">\n",
        "      <th></th>\n",
        "      <th>attendees</th>\n",
        "      <th>event_id</th>\n",
        "      <th>event_name</th>\n",
        "      <th>zip</th>\n",
        "      <th>name</th>\n",
        "      <th>empflag</th>\n",
        "      <th>emp_nf</th>\n",
        "      <th>emp</th>\n",
        "      <th>qp1_nf</th>\n",
        "      <th>qp1</th>\n",
        "      <th>ap_nf</th>\n",
        "      <th>ap</th>\n",
        "      <th>est</th>\n",
        "      <th>city</th>\n",
        "      <th>stabbr</th>\n",
        "      <th>cty_name</th>\n",
        "    </tr>\n",
        "  </thead>\n",
        "  <tbody>\n",
        "    <tr>\n",
        "      <th>0</th>\n",
        "      <td>  9</td>\n",
        "      <td> 18451</td>\n",
        "      <td> Tacoma Action Center Phone Bank</td>\n",
        "      <td> 98402</td>\n",
        "      <td> TACOMA, WA</td>\n",
        "      <td> NaN</td>\n",
        "      <td> G</td>\n",
        "      <td> 16278</td>\n",
        "      <td> G</td>\n",
        "      <td> 233918</td>\n",
        "      <td> G</td>\n",
        "      <td> 960640</td>\n",
        "      <td> 768</td>\n",
        "      <td> TACOMA</td>\n",
        "      <td> WA</td>\n",
        "      <td> PIERCE</td>\n",
        "    </tr>\n",
        "    <tr>\n",
        "      <th>1</th>\n",
        "      <td> 13</td>\n",
        "      <td> 34591</td>\n",
        "      <td>     Tacoma Election Day Canvass</td>\n",
        "      <td> 98402</td>\n",
        "      <td> TACOMA, WA</td>\n",
        "      <td> NaN</td>\n",
        "      <td> G</td>\n",
        "      <td> 16278</td>\n",
        "      <td> G</td>\n",
        "      <td> 233918</td>\n",
        "      <td> G</td>\n",
        "      <td> 960640</td>\n",
        "      <td> 768</td>\n",
        "      <td> TACOMA</td>\n",
        "      <td> WA</td>\n",
        "      <td> PIERCE</td>\n",
        "    </tr>\n",
        "    <tr>\n",
        "      <th>2</th>\n",
        "      <td> 23</td>\n",
        "      <td> 34601</td>\n",
        "      <td> Tacoma Election Day Phone Banks</td>\n",
        "      <td> 98402</td>\n",
        "      <td> TACOMA, WA</td>\n",
        "      <td> NaN</td>\n",
        "      <td> G</td>\n",
        "      <td> 16278</td>\n",
        "      <td> G</td>\n",
        "      <td> 233918</td>\n",
        "      <td> G</td>\n",
        "      <td> 960640</td>\n",
        "      <td> 768</td>\n",
        "      <td> TACOMA</td>\n",
        "      <td> WA</td>\n",
        "      <td> PIERCE</td>\n",
        "    </tr>\n",
        "    <tr>\n",
        "      <th>3</th>\n",
        "      <td> 19</td>\n",
        "      <td> 37501</td>\n",
        "      <td>                 Tacoma Lit Drop</td>\n",
        "      <td> 98402</td>\n",
        "      <td> TACOMA, WA</td>\n",
        "      <td> NaN</td>\n",
        "      <td> G</td>\n",
        "      <td> 16278</td>\n",
        "      <td> G</td>\n",
        "      <td> 233918</td>\n",
        "      <td> G</td>\n",
        "      <td> 960640</td>\n",
        "      <td> 768</td>\n",
        "      <td> TACOMA</td>\n",
        "      <td> WA</td>\n",
        "      <td> PIERCE</td>\n",
        "    </tr>\n",
        "    <tr>\n",
        "      <th>4</th>\n",
        "      <td>  1</td>\n",
        "      <td> 35661</td>\n",
        "      <td>     Tacoma GOTV Canvass Evening</td>\n",
        "      <td> 98402</td>\n",
        "      <td> TACOMA, WA</td>\n",
        "      <td> NaN</td>\n",
        "      <td> G</td>\n",
        "      <td> 16278</td>\n",
        "      <td> G</td>\n",
        "      <td> 233918</td>\n",
        "      <td> G</td>\n",
        "      <td> 960640</td>\n",
        "      <td> 768</td>\n",
        "      <td> TACOMA</td>\n",
        "      <td> WA</td>\n",
        "      <td> PIERCE</td>\n",
        "    </tr>\n",
        "  </tbody>\n",
        "</table>\n",
        "</div>"
       ],
       "metadata": {},
       "output_type": "pyout",
       "prompt_number": 18,
       "text": [
        "   attendees  event_id                       event_name    zip        name  \\\n",
        "0          9     18451  Tacoma Action Center Phone Bank  98402  TACOMA, WA   \n",
        "1         13     34591      Tacoma Election Day Canvass  98402  TACOMA, WA   \n",
        "2         23     34601  Tacoma Election Day Phone Banks  98402  TACOMA, WA   \n",
        "3         19     37501                  Tacoma Lit Drop  98402  TACOMA, WA   \n",
        "4          1     35661      Tacoma GOTV Canvass Evening  98402  TACOMA, WA   \n",
        "\n",
        "  empflag emp_nf    emp qp1_nf     qp1 ap_nf      ap  est    city stabbr  \\\n",
        "0     NaN      G  16278      G  233918     G  960640  768  TACOMA     WA   \n",
        "1     NaN      G  16278      G  233918     G  960640  768  TACOMA     WA   \n",
        "2     NaN      G  16278      G  233918     G  960640  768  TACOMA     WA   \n",
        "3     NaN      G  16278      G  233918     G  960640  768  TACOMA     WA   \n",
        "4     NaN      G  16278      G  233918     G  960640  768  TACOMA     WA   \n",
        "\n",
        "  cty_name  \n",
        "0   PIERCE  \n",
        "1   PIERCE  \n",
        "2   PIERCE  \n",
        "3   PIERCE  \n",
        "4   PIERCE  "
       ]
      }
     ],
     "prompt_number": 18
    },
    {
     "cell_type": "code",
     "collapsed": false,
     "input": [
      "attendance = combo['attendees'].values"
     ],
     "language": "python",
     "metadata": {},
     "outputs": [],
     "prompt_number": 19
    },
    {
     "cell_type": "code",
     "collapsed": false,
     "input": [
      "income = combo['ap'].values"
     ],
     "language": "python",
     "metadata": {},
     "outputs": [],
     "prompt_number": 20
    },
    {
     "cell_type": "code",
     "collapsed": false,
     "input": [
      "%pylab inline\n",
      "import matplotlib.pyplot as plt\n",
      "from pylab import *"
     ],
     "language": "python",
     "metadata": {},
     "outputs": [
      {
       "output_type": "stream",
       "stream": "stdout",
       "text": [
        "Populating the interactive namespace from numpy and matplotlib\n"
       ]
      }
     ],
     "prompt_number": 24
    },
    {
     "cell_type": "code",
     "collapsed": false,
     "input": [
      "plt.scatter(income,attendance)"
     ],
     "language": "python",
     "metadata": {},
     "outputs": [
      {
       "metadata": {},
       "output_type": "pyout",
       "prompt_number": 22,
       "text": [
        "<matplotlib.collections.PathCollection at 0xcfd6048>"
       ]
      },
      {
       "metadata": {},
       "output_type": "display_data",
       "png": "[encoded data removed]",
       "text": [
        "<matplotlib.figure.Figure at 0xd616400>"
       ]
      }
     ],
     "prompt_number": 22
    },
    {
     "cell_type": "code",
     "collapsed": false,
     "input": [
      "p=plt.ylim(100)"
     ],
     "language": "python",
     "metadata": {},
     "outputs": [
      {
       "metadata": {},
       "output_type": "display_data",
       "png": "[encoded data removed]",
       "text": [
        "<matplotlib.figure.Figure at 0xe31cfd0>"
       ]
      }
     ],
     "prompt_number": 25
    },
    {
     "cell_type": "code",
     "collapsed": false,
     "input": [
      "plt.show()"
     ],
     "language": "python",
     "metadata": {},
     "outputs": [],
     "prompt_number": 26
    },
    {
     "cell_type": "code",
     "collapsed": false,
     "input": [
      "show()"
     ],
     "language": "python",
     "metadata": {},
     "outputs": [],
     "prompt_number": 27
    },
    {
     "cell_type": "code",
     "collapsed": false,
     "input": [
      "ylim(0,100)"
     ],
     "language": "python",
     "metadata": {},
     "outputs": [
      {
       "metadata": {},
       "output_type": "pyout",
       "prompt_number": 31,
       "text": [
        "(0, 100)"
       ]
      },
      {
       "metadata": {},
       "output_type": "display_data",
       "png": "[encoded data removed]",
       "text": [
        "<matplotlib.figure.Figure at 0xd270c88>"
       ]
      }
     ],
     "prompt_number": 31
    },
    {
     "cell_type": "code",
     "collapsed": false,
     "input": [
      "scatter(income,attendance, label='attendance')"
     ],
     "language": "python",
     "metadata": {},
     "outputs": [
      {
       "metadata": {},
       "output_type": "pyout",
       "prompt_number": 34,
       "text": [
        "<matplotlib.collections.PathCollection at 0xe649400>"
       ]
      },
      {
       "metadata": {},
       "output_type": "display_data",
       "png": "[encoded data removed]",
       "text": [
        "<matplotlib.figure.Figure at 0xd2734e0>"
       ]
      }
     ],
     "prompt_number": 34
    },
    {
     "cell_type": "code",
     "collapsed": false,
     "input": [
      "legend(loc='upper left')"
     ],
     "language": "python",
     "metadata": {},
     "outputs": [
      {
       "metadata": {},
       "output_type": "display_data",
       "png": "[encoded data removed]",
       "text": [
        "<matplotlib.figure.Figure at 0xe44a9b0>"
       ]
      }
     ],
     "prompt_number": 35
    },
    {
     "cell_type": "code",
     "collapsed": false,
     "input": [
      "show()\n"
     ],
     "language": "python",
     "metadata": {},
     "outputs": [],
     "prompt_number": 36
    },
    {
     "cell_type": "code",
     "collapsed": false,
     "input": [
      "plt.get_configdir()"
     ],
     "language": "python",
     "metadata": {},
     "outputs": [
      {
       "ename": "AttributeError",
       "evalue": "'module' object has no attribute 'get_configdir'",
       "output_type": "pyerr",
       "traceback": [
        "\u001b[1;31m---------------------------------------------------------------------------\u001b[0m\n\u001b[1;31mAttributeError\u001b[0m                            Traceback (most recent call last)",
        "\u001b[1;32m<ipython-input-37-d76d10aa5241>\u001b[0m in \u001b[0;36m<module>\u001b[1;34m()\u001b[0m\n\u001b[1;32m----> 1\u001b[1;33m \u001b[0mplt\u001b[0m\u001b[1;33m.\u001b[0m\u001b[0mget_configdir\u001b[0m\u001b[1;33m(\u001b[0m\u001b[1;33m)\u001b[0m\u001b[1;33m\u001b[0m\u001b[0m\n\u001b[0m",
        "\u001b[1;31mAttributeError\u001b[0m: 'module' object has no attribute 'get_configdir'"
       ]
      }
     ],
     "prompt_number": 37
    },
    {
     "cell_type": "code",
     "collapsed": false,
     "input": [
      "import matplotlib as mat"
     ],
     "language": "python",
     "metadata": {},
     "outputs": [],
     "prompt_number": 38
    },
    {
     "cell_type": "code",
     "collapsed": false,
     "input": [
      "mat.get_configdir()"
     ],
     "language": "python",
     "metadata": {},
     "outputs": [
      {
       "metadata": {},
       "output_type": "pyout",
       "prompt_number": 39,
       "text": [
        "'c:/Users/Josh\\\\.matplotlib'"
       ]
      }
     ],
     "prompt_number": 39
    },
    {
     "cell_type": "code",
     "collapsed": false,
     "input": [],
     "language": "python",
     "metadata": {},
     "outputs": []
    }
   ],
   "metadata": {}
  }
 ]
}
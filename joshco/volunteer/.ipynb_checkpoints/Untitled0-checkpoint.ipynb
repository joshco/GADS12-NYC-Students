{
 "metadata": {
  "name": "",
  "signature": "sha256:0f544fe2b68f3807a36766e7f69d25b942bfabbc10e7183443f4c61bc3dedb18"
 },
 "nbformat": 3,
 "nbformat_minor": 0,
 "worksheets": []
}